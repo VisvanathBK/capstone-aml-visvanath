{
 "cells": [
  {
   "cell_type": "code",
   "execution_count": 1,
   "id": "64dbf07f-568a-42cc-b690-192fd172edc5",
   "metadata": {},
   "outputs": [
    {
     "ename": "ValueError",
     "evalue": "A negative number of rows requested. Please provide `n` >= 0.",
     "output_type": "error",
     "traceback": [
      "\u001b[1;31m---------------------------------------------------------------------------\u001b[0m",
      "\u001b[1;31mValueError\u001b[0m                                Traceback (most recent call last)",
      "Cell \u001b[1;32mIn[1], line 8\u001b[0m\n\u001b[0;32m      6\u001b[0m \u001b[38;5;66;03m# Downsample to 5,000 (keep all frauds)\u001b[39;00m\n\u001b[0;32m      7\u001b[0m fraud \u001b[38;5;241m=\u001b[39m df[df[\u001b[38;5;124m'\u001b[39m\u001b[38;5;124misFraud\u001b[39m\u001b[38;5;124m'\u001b[39m] \u001b[38;5;241m==\u001b[39m \u001b[38;5;241m1\u001b[39m]\n\u001b[1;32m----> 8\u001b[0m nonfraud \u001b[38;5;241m=\u001b[39m df[df[\u001b[38;5;124m'\u001b[39m\u001b[38;5;124misFraud\u001b[39m\u001b[38;5;124m'\u001b[39m] \u001b[38;5;241m==\u001b[39m \u001b[38;5;241m0\u001b[39m]\u001b[38;5;241m.\u001b[39msample(n\u001b[38;5;241m=\u001b[39m(\u001b[38;5;241m5000\u001b[39m \u001b[38;5;241m-\u001b[39m \u001b[38;5;28mlen\u001b[39m(fraud)), random_state\u001b[38;5;241m=\u001b[39m\u001b[38;5;241m42\u001b[39m)\n\u001b[0;32m      9\u001b[0m df_sample \u001b[38;5;241m=\u001b[39m pd\u001b[38;5;241m.\u001b[39mconcat([fraud, nonfraud])\u001b[38;5;241m.\u001b[39msample(frac\u001b[38;5;241m=\u001b[39m\u001b[38;5;241m1\u001b[39m, random_state\u001b[38;5;241m=\u001b[39m\u001b[38;5;241m42\u001b[39m)\u001b[38;5;241m.\u001b[39mreset_index(drop\u001b[38;5;241m=\u001b[39m\u001b[38;5;28;01mTrue\u001b[39;00m)\n\u001b[0;32m     11\u001b[0m \u001b[38;5;66;03m# Inject AML flagging\u001b[39;00m\n",
      "File \u001b[1;32m~\\anaconda3\\Lib\\site-packages\\pandas\\core\\generic.py:6110\u001b[0m, in \u001b[0;36mNDFrame.sample\u001b[1;34m(self, n, frac, replace, weights, random_state, axis, ignore_index)\u001b[0m\n\u001b[0;32m   6107\u001b[0m \u001b[38;5;66;03m# Process random_state argument\u001b[39;00m\n\u001b[0;32m   6108\u001b[0m rs \u001b[38;5;241m=\u001b[39m common\u001b[38;5;241m.\u001b[39mrandom_state(random_state)\n\u001b[1;32m-> 6110\u001b[0m size \u001b[38;5;241m=\u001b[39m sample\u001b[38;5;241m.\u001b[39mprocess_sampling_size(n, frac, replace)\n\u001b[0;32m   6111\u001b[0m \u001b[38;5;28;01mif\u001b[39;00m size \u001b[38;5;129;01mis\u001b[39;00m \u001b[38;5;28;01mNone\u001b[39;00m:\n\u001b[0;32m   6112\u001b[0m     \u001b[38;5;28;01massert\u001b[39;00m frac \u001b[38;5;129;01mis\u001b[39;00m \u001b[38;5;129;01mnot\u001b[39;00m \u001b[38;5;28;01mNone\u001b[39;00m\n",
      "File \u001b[1;32m~\\anaconda3\\Lib\\site-packages\\pandas\\core\\sample.py:97\u001b[0m, in \u001b[0;36mprocess_sampling_size\u001b[1;34m(n, frac, replace)\u001b[0m\n\u001b[0;32m     95\u001b[0m \u001b[38;5;28;01melif\u001b[39;00m n \u001b[38;5;129;01mis\u001b[39;00m \u001b[38;5;129;01mnot\u001b[39;00m \u001b[38;5;28;01mNone\u001b[39;00m:\n\u001b[0;32m     96\u001b[0m     \u001b[38;5;28;01mif\u001b[39;00m n \u001b[38;5;241m<\u001b[39m \u001b[38;5;241m0\u001b[39m:\n\u001b[1;32m---> 97\u001b[0m         \u001b[38;5;28;01mraise\u001b[39;00m \u001b[38;5;167;01mValueError\u001b[39;00m(\n\u001b[0;32m     98\u001b[0m             \u001b[38;5;124m\"\u001b[39m\u001b[38;5;124mA negative number of rows requested. Please provide `n` >= 0.\u001b[39m\u001b[38;5;124m\"\u001b[39m\n\u001b[0;32m     99\u001b[0m         )\n\u001b[0;32m    100\u001b[0m     \u001b[38;5;28;01mif\u001b[39;00m n \u001b[38;5;241m%\u001b[39m \u001b[38;5;241m1\u001b[39m \u001b[38;5;241m!=\u001b[39m \u001b[38;5;241m0\u001b[39m:\n\u001b[0;32m    101\u001b[0m         \u001b[38;5;28;01mraise\u001b[39;00m \u001b[38;5;167;01mValueError\u001b[39;00m(\u001b[38;5;124m\"\u001b[39m\u001b[38;5;124mOnly integers accepted as `n` values\u001b[39m\u001b[38;5;124m\"\u001b[39m)\n",
      "\u001b[1;31mValueError\u001b[0m: A negative number of rows requested. Please provide `n` >= 0."
     ]
    }
   ],
   "source": [
    "import pandas as pd\n",
    "\n",
    "# Load the full PaySim dataset\n",
    "df = pd.read_csv(\"PS_20174392719_1491204439457_log.csv\")\n",
    "\n",
    "# Downsample to 5,000 (keep all frauds)\n",
    "fraud = df[df['isFraud'] == 1]\n",
    "nonfraud = df[df['isFraud'] == 0].sample(n=(5000 - len(fraud)), random_state=42)\n",
    "df_sample = pd.concat([fraud, nonfraud]).sample(frac=1, random_state=42).reset_index(drop=True)\n",
    "\n",
    "# Inject AML flagging\n",
    "def aml_flag(row):\n",
    "    if row['amount'] > 1000000 and row['type'] == 'TRANSFER':\n",
    "        return 'Layering'\n",
    "    elif 999 < row['amount'] < 1001 and row['type'] == 'CASH_OUT':\n",
    "        return 'Structuring'\n",
    "    elif row['nameOrig'].startswith('C') and row['step'] % 10 == 0:\n",
    "        return 'Dormant Activity'\n",
    "    else:\n",
    "        return 'Clean'\n",
    "\n",
    "df_sample['aml_flag'] = df_sample.apply(aml_flag, axis=1)\n",
    "\n",
    "# Export\n",
    "df_sample.to_csv(\"paysim_sample_5000.csv\", index=False)\n",
    "df_sample[df_sample['aml_flag'] != 'Clean'].to_csv(\"aml_flags.csv\", index=False)\n",
    "\n",
    "print(\"✅ CSVs saved as 'paysim_sample_5000.csv' and 'aml_flags.csv'\")"
   ]
  },
  {
   "cell_type": "code",
   "execution_count": 2,
   "id": "d557f81d-489c-4074-bf89-27bf8e287e9a",
   "metadata": {},
   "outputs": [
    {
     "name": "stdout",
     "output_type": "stream",
     "text": [
      "✅ CSVs saved: 'paysim_sample_5000.csv' and 'aml_flags.csv'\n"
     ]
    }
   ],
   "source": [
    "import pandas as pd\n",
    "\n",
    "# Load the full PaySim dataset\n",
    "df = pd.read_csv(\"PS_20174392719_1491204439457_log.csv\")\n",
    "\n",
    "# Separate fraud and non-fraud\n",
    "fraud = df[df['isFraud'] == 1]\n",
    "nonfraud = df[df['isFraud'] == 0]\n",
    "\n",
    "# Limit total size to 5,000 rows\n",
    "fraud_count = len(fraud)\n",
    "sample_size = min(5000, fraud_count + len(nonfraud))\n",
    "nonfraud_needed = max(0, sample_size - fraud_count)\n",
    "\n",
    "# Sample the non-frauds accordingly\n",
    "nonfraud_sampled = nonfraud.sample(n=nonfraud_needed, random_state=42)\n",
    "\n",
    "# Combine and shuffle\n",
    "df_sample = pd.concat([fraud, nonfraud_sampled]).sample(frac=1, random_state=42).reset_index(drop=True)\n",
    "\n",
    "# Inject AML flagging\n",
    "def aml_flag(row):\n",
    "    if row['amount'] > 1000000 and row['type'] == 'TRANSFER':\n",
    "        return 'Layering'\n",
    "    elif 999 < row['amount'] < 1001 and row['type'] == 'CASH_OUT':\n",
    "        return 'Structuring'\n",
    "    elif row['nameOrig'].startswith('C') and row['step'] % 10 == 0:\n",
    "        return 'Dormant Activity'\n",
    "    else:\n",
    "        return 'Clean'\n",
    "\n",
    "df_sample['aml_flag'] = df_sample.apply(aml_flag, axis=1)\n",
    "\n",
    "# Save output files\n",
    "df_sample.to_csv(\"paysim_sample_5000.csv\", index=False)\n",
    "df_sample[df_sample['aml_flag'] != 'Clean'].to_csv(\"aml_flags.csv\", index=False)\n",
    "\n",
    "print(\"✅ CSVs saved: 'paysim_sample_5000.csv' and 'aml_flags.csv'\") \n",
    "\n"
   ]
  },
  {
   "cell_type": "code",
   "execution_count": null,
   "id": "cc2256ba-cc02-4b24-b772-06378cfb980b",
   "metadata": {},
   "outputs": [],
   "source": []
  }
 ],
 "metadata": {
  "kernelspec": {
   "display_name": "Python 3 (ipykernel)",
   "language": "python",
   "name": "python3"
  },
  "language_info": {
   "codemirror_mode": {
    "name": "ipython",
    "version": 3
   },
   "file_extension": ".py",
   "mimetype": "text/x-python",
   "name": "python",
   "nbconvert_exporter": "python",
   "pygments_lexer": "ipython3",
   "version": "3.12.7"
  }
 },
 "nbformat": 4,
 "nbformat_minor": 5
}
