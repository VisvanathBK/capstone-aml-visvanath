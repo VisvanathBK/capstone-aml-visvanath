{
 "cells": [
  {
   "cell_type": "markdown",
   "id": "b0d66d49",
   "metadata": {},
   "source": [
    "# 📊 LIME Explanations Dashboard for Transactions #1, #2, and #3"
   ]
  },
  {
   "cell_type": "markdown",
   "id": "8f868320",
   "metadata": {},
   "source": [
    "## 🧾 Overview\n",
    "This dashboard presents the LIME explanations for three sample transactions evaluated by a logistic regression fraud detection model. Each explanation visualizes the influence of individual features on the model's prediction — whether the transaction is legitimate or fraudulent."
   ]
  },
  {
   "cell_type": "markdown",
   "id": "b96e8724",
   "metadata": {},
   "source": [
    "## 🖼️ LIME Visualization — Transaction #1\n",
    "![Transaction 1](lime_final_transaction_1.png)"
   ]
  },
  {
   "cell_type": "markdown",
   "id": "7119a011",
   "metadata": {},
   "source": [
    "### 🔍 Key Influences (Transaction #1)\n",
    "| Feature | Influence | Direction |\n",
    "|---------|-----------|-----------|\n",
    "| `isFlaggedFraud <= -0.03` | -0.33 | 🟥 Negative (Supports Fraud) |\n",
    "| `oldbalanceOrg <= -0.39` | -0.33 | 🟥 Negative |\n",
    "| `newbalanceOrig <= -0.21` | +0.20 | 🟩 Positive (Supports Legit) |\n",
    "| `oldbalanceDest <= -0.22` | -0.20 | 🟥 Negative |\n",
    "| `amount <= -0.42` | +0.07 | 🟩 Positive |"
   ]
  },
  {
   "cell_type": "markdown",
   "id": "79a54fe1",
   "metadata": {},
   "source": [
    "## 🖼️ LIME Visualization — Transaction #2\n",
    "![Transaction 2](lime_final_transaction_2.png)"
   ]
  },
  {
   "cell_type": "markdown",
   "id": "e35f99b2",
   "metadata": {},
   "source": [
    "### 🔍 Key Influences (Transaction #2)\n",
    "| Feature | Influence | Direction |\n",
    "|---------|-----------|-----------|\n",
    "| `oldbalanceOrg > -0.14` | +0.75 | 🟩 Positive (Legit) |\n",
    "| `isFlaggedFraud <= -0.03` | -0.38 | 🟥 Negative (Supports Fraud) |\n",
    "| `newbalanceOrig <= -0.21` | +0.20 | 🟩 Positive |\n",
    "| `amount > -0.15` | -0.04 | 🟥 Negative |"
   ]
  },
  {
   "cell_type": "markdown",
   "id": "ea74cda0",
   "metadata": {},
   "source": [
    "## 🖼️ LIME Visualization — Transaction #3\n",
    "![Transaction 3](lime_final_transaction_3.png)"
   ]
  },
  {
   "cell_type": "markdown",
   "id": "92430a80",
   "metadata": {},
   "source": [
    "### 🔍 Key Influences (Transaction #3)\n",
    "| Feature | Influence | Direction |\n",
    "|---------|-----------|-----------|\n",
    "| `oldbalanceOrg > -0.14` | +0.75 | 🟩 Positive |\n",
    "| `oldbalanceDest > -0.08` | +0.40 | 🟩 Positive |\n",
    "| `newbalanceOrig > -0.21` | -0.20 | 🟥 Negative |\n",
    "| `isFlaggedFraud <= -0.03` | -0.20 | 🟥 Negative |"
   ]
  },
  {
   "cell_type": "markdown",
   "id": "c95031f7",
   "metadata": {},
   "source": [
    "## 🧮 Comparative Analysis Table\n",
    "| Feature | Txn #1 | Txn #2 | Txn #3 |\n",
    "|---------|--------|--------|--------|\n",
    "| `oldbalanceOrg` | -0.33 🟥 | +0.75 🟩 | +0.75 🟩 |\n",
    "| `isFlaggedFraud` | -0.33 🟥 | -0.38 🟥 | -0.20 🟥 |\n",
    "| `newbalanceOrig` | +0.20 🟩 | +0.20 🟩 | -0.20 🟥 |"
   ]
  },
  {
   "cell_type": "markdown",
   "id": "5330f4dd",
   "metadata": {},
   "source": [
    "## 📘 Summary Insights\n",
    "- A high `oldbalanceOrg` often signals **legitimacy**.\n",
    "- A flagged fraud status (`isFlaggedFraud`) correlates strongly with **fraudulent predictions**.\n",
    "- A low or inconsistent `newbalanceOrig` contributes to **higher fraud likelihood**.\n",
    "- These visuals can guide internal auditors, fraud investigators, and policy engineers to refine thresholds or trigger reviews for suspicious transfers."
   ]
  }
 ],
 "metadata": {
  "kernelspec": {
   "display_name": "Python 3",
   "name": "python3"
  },
  "language_info": {
   "name": "python",
   "version": "3.11"
  }
 },
 "nbformat": 4,
 "nbformat_minor": 5
}
