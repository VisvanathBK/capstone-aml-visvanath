{
 "cells": [
  {
   "cell_type": "markdown",
   "id": "1448001c-80cd-478d-af39-24a8eed1cf46",
   "metadata": {},
   "source": [
    "# 🔍 SHAP + LIME Interpretability Dashboard\n",
    "\n",
    "This notebook presents combined insights from both **LIME** and **SHAP** explanations on selected transactions from our fraud detection model.\n",
    "\n",
    "---\n",
    "\n",
    "## 📊 LIME Visualizations (Transactions 1–3)\n",
    "\n",
    "These LIME plots explain model decisions by perturbing input data and observing prediction changes.\n",
    "\n",
    "| Transaction | LIME Plot |\n",
    "|-------------|-----------|\n",
    "| Transaction #1 | ![LIME 1](lime_final_transaction_1.png) |\n",
    "| Transaction #2 | ![LIME 2](lime_final_transaction_2.png) |\n",
    "| Transaction #3 | ![LIME 3](lime_final_transaction_3.png) |\n",
    "\n",
    "---\n",
    "\n",
    "## 🔍 SHAP Summary Plot\n",
    "\n",
    "This plot shows global feature importance, ranked by how much each feature contributes to fraud classification.\n",
    "\n",
    "![SHAP Summary](shap_summary_plot.png)\n",
    "\n",
    "---\n",
    "\n",
    "## 🌊 SHAP Waterfall Plots (Transactions 1–3)\n",
    "\n",
    "These explain predictions for individual transactions.\n",
    "\n",
    "| Transaction | SHAP Waterfall Plot |\n",
    "|-------------|---------------------|\n",
    "| Transaction #1 | ![SHAP 1](shap_waterfall_transaction_1.png) |\n",
    "| Transaction #2 | ![SHAP 2](shap_waterfall_transaction_2.png) |\n",
    "| Transaction #3 | ![SHAP 3](shap_waterfall_transaction_3.png) |\n",
    "\n",
    "---\n",
    "\n",
    "## 💡 Key Takeaways\n",
    "\n",
    "- **Global Influencers (SHAP):** `amount`, `oldbalanceOrg`, and `newbalanceOrig` are dominant drivers.\n",
    "- **Local Decisions (LIME + SHAP):** LIME aids transparency; SHAP adds precise attribution per feature.\n",
    "- **Actionability:** Adjust fraud thresholds, create override rules, and retrain on underperforming features.\n",
    "\n",
    "---\n",
    "\n",
    "> 📘 This dashboard helps auditors, analysts, and stakeholders understand and trust AI predictions."
   ]
  },
  {
   "cell_type": "code",
   "execution_count": null,
   "id": "446d8eb4-731d-46b1-bd37-d436a9dbce8a",
   "metadata": {},
   "outputs": [],
   "source": []
  }
 ],
 "metadata": {
  "kernelspec": {
   "display_name": "Python 3 (ipykernel)",
   "language": "python",
   "name": "python3"
  },
  "language_info": {
   "codemirror_mode": {
    "name": "ipython",
    "version": 3
   },
   "file_extension": ".py",
   "mimetype": "text/x-python",
   "name": "python",
   "nbconvert_exporter": "python",
   "pygments_lexer": "ipython3",
   "version": "3.12.7"
  }
 },
 "nbformat": 4,
 "nbformat_minor": 5
}
